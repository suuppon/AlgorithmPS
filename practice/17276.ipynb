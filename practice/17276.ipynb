{
 "cells": [
  {
   "cell_type": "code",
   "execution_count": 14,
   "id": "391130e7",
   "metadata": {},
   "outputs": [],
   "source": [
    "def rotation(List,d):\n",
    "    '''List로 배열을 받은 뒤, d만큼의 각도를 돌립니다.\n",
    "    d를 45로 나누어 돌리는 횟수로서 입력받고, d의 부호만 신경쓰도록 합니다.\n",
    "    d가 양수이면 그떄 돌리는 방향을 지정한 뒤 d/45번만큼 회전시킨다고 하고, \n",
    "    d가 음수일 땐 그 반대로 합니다\n",
    "    \n",
    "    우선 대각선 두 개와 가로세로 셀들을 리스트로 저장해놓습니다.\n",
    "    회전에 따라 해당되는 데이터를 어디에 넣을지 정합니다.'''\n",
    "    num = int(d/45)%8\n",
    "    if num < 0:\n",
    "        num = 8+num\n",
    "        \n",
    "    for k in range(num):\n",
    "        for i in range(len(List)):\n",
    "            diagonal_1 = [List[i][i] for i in range(len(List))]\n",
    "            y_axis = [List[i][int(len(List)/2)] for i in range(len(List))]\n",
    "            diagonal_2 = [List[i][len(List)-1-i] for i in range(len(List))]\n",
    "            x_axis = [List[int(len(List)/2)][i] for i in range(len(List))]\n",
    "\n",
    "\n",
    "\n",
    "        for j in range(len(List)):\n",
    "            List[j][int(len(List)/2)] = diagonal_1[j]\n",
    "            List[j][len(List)-1-j] = y_axis[j]\n",
    "            List[int(len(List)/2)][-j-1] = diagonal_2[j]\n",
    "            List[j][j] = x_axis[j]\n",
    "\n",
    "\n",
    "    for inner_list in List:\n",
    "    # 내부 리스트의 원소들을 공백으로 연결하여 출력\n",
    "        print(' '.join(map(str, inner_list)))"
   ]
  },
  {
   "cell_type": "code",
   "execution_count": 15,
   "id": "3df1804f",
   "metadata": {},
   "outputs": [
    {
     "name": "stdout",
     "output_type": "stream",
     "text": [
      "3\n",
      "5 45\n",
      "1 2 3 4 5\n",
      "6 7 8 9 10\n",
      "11 12 13 14 15\n",
      "16 17 18 19 20\n",
      "21 22 23 24 25\n",
      "11 2 1 4 3\n",
      "6 12 7 8 10\n",
      "21 17 13 9 5\n",
      "16 18 19 14 20\n",
      "23 22 25 24 15\n",
      "5 -45\n",
      "1 2 3 4 5\n",
      "6 7 8 9 10\n",
      "11 12 13 14 15\n",
      "16 17 18 19 20\n",
      "21 22 23 24 25\n",
      "3 2 5 4 15\n",
      "6 8 9 14 10\n",
      "1 7 13 19 25\n",
      "16 12 17 18 20\n",
      "11 22 21 24 23\n",
      "5 135\n",
      "1 2 3 4 5\n",
      "6 7 8 9 10\n",
      "11 12 13 14 15\n",
      "16 17 18 19 20\n",
      "21 22 23 24 25\n",
      "23 2 21 4 11\n",
      "6 18 17 12 10\n",
      "25 19 13 7 1\n",
      "16 14 9 8 20\n",
      "15 22 5 24 3\n"
     ]
    }
   ],
   "source": [
    "T = int(input())\n",
    "\n",
    "for _ in range(T):\n",
    "    List = []\n",
    "    n,d = map(int,input().split())\n",
    "    for i in range(n):\n",
    "        input_str = input().split()\n",
    "        integers = [int(num) for num in input_str]\n",
    "        List.append(integers)\n",
    "    \n",
    "    rotation(List,d)"
   ]
  }
 ],
 "metadata": {
  "kernelspec": {
   "display_name": "Python 3 (ipykernel)",
   "language": "python",
   "name": "python3"
  },
  "language_info": {
   "codemirror_mode": {
    "name": "ipython",
    "version": 3
   },
   "file_extension": ".py",
   "mimetype": "text/x-python",
   "name": "python",
   "nbconvert_exporter": "python",
   "pygments_lexer": "ipython3",
   "version": "3.9.13"
  }
 },
 "nbformat": 4,
 "nbformat_minor": 5
}
