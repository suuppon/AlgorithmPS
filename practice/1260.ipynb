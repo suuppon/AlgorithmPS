{
 "cells": [
  {
   "cell_type": "code",
   "execution_count": 73,
   "id": "a9c097de",
   "metadata": {},
   "outputs": [
    {
     "name": "stdout",
     "output_type": "stream",
     "text": [
      "4 5 1\n",
      "1 2\n",
      "1 3\n",
      "1 4\n",
      "2 4\n",
      "3 4\n"
     ]
    }
   ],
   "source": [
    "n,m,v = map(int, input().split())\n",
    "\n",
    "inter = [[0]*(n+1) for _ in range(n+1)]\n",
    "\n",
    "for _ in range(m):\n",
    "    a,b = map(int, input().split())\n",
    "    inter[a][b] = 1\n",
    "    inter[b][a] = 1\n",
    "    \n",
    "visited1 = [0]*(n+1)\n",
    "visited2 = [0]*(n+1)"
   ]
  },
  {
   "cell_type": "code",
   "execution_count": 74,
   "id": "1791c133",
   "metadata": {},
   "outputs": [],
   "source": [
    "def DFS(v):\n",
    "\n",
    "    visited1[v] = 1\n",
    "    print(v, end = \" \")\n",
    "    for i in range(1, n+1):\n",
    "        if visited1[i] == 0 and inter[v][i] ==1:\n",
    "            DFS(i)"
   ]
  },
  {
   "cell_type": "code",
   "execution_count": 75,
   "id": "b40815cf",
   "metadata": {},
   "outputs": [],
   "source": [
    "def BFS(v):\n",
    "    queue = [v]\n",
    "    while len(queue) != 0:\n",
    "        v = queue.pop(0)\n",
    "        visited2[v] = 1\n",
    "        print(v, end = \" \")\n",
    "        for i in range(1, n+1):\n",
    "            if visited2[i] != 1 and inter[v][i] == 1:\n",
    "                queue.append(i)\n",
    "                visited2[i] = 1\n",
    "        "
   ]
  },
  {
   "cell_type": "code",
   "execution_count": 76,
   "id": "0dd5c623",
   "metadata": {},
   "outputs": [
    {
     "name": "stdout",
     "output_type": "stream",
     "text": [
      "1 2 4 3 \n",
      "1 2 3 4 "
     ]
    }
   ],
   "source": [
    "DFS(v)\n",
    "print()\n",
    "BFS(v)"
   ]
  },
  {
   "cell_type": "code",
   "execution_count": null,
   "id": "be944b7c",
   "metadata": {},
   "outputs": [],
   "source": []
  }
 ],
 "metadata": {
  "kernelspec": {
   "display_name": "Python 3 (ipykernel)",
   "language": "python",
   "name": "python3"
  },
  "language_info": {
   "codemirror_mode": {
    "name": "ipython",
    "version": 3
   },
   "file_extension": ".py",
   "mimetype": "text/x-python",
   "name": "python",
   "nbconvert_exporter": "python",
   "pygments_lexer": "ipython3",
   "version": "3.9.13"
  }
 },
 "nbformat": 4,
 "nbformat_minor": 5
}
