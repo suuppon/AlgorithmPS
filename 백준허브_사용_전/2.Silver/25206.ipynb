{
 "cells": [
  {
   "cell_type": "code",
   "execution_count": 2,
   "id": "e269a88d",
   "metadata": {},
   "outputs": [
    {
     "name": "stdout",
     "output_type": "stream",
     "text": [
      "a 3.0 A+\n",
      "a 3.0 A+\n",
      "a 3.0 A0\n",
      "a 3.0 A+\n",
      "a 3.0 A+\n",
      "a 3.0 B0\n",
      "a 3.0 A0\n",
      "a 3.0 B0\n",
      "a 3.0 B0\n",
      "a 3.0 B0\n",
      "a 3.0 C+\n",
      "a 3.0 B0\n",
      "a 4.0 A+\n",
      "a 3.0 B+\n",
      "a 3.0 C0\n",
      "a 3.0 D+\n",
      "a 3.0 C+\n",
      "a 3.0 B0\n",
      "a 3.0 B+\n",
      "a 3.0 D0\n",
      "16.0\n",
      "4.5\n",
      "6.0\n",
      "4.0\n",
      "6.0\n",
      "3.5\n",
      "18.0\n",
      "3.0\n",
      "6.0\n",
      "2.5\n",
      "3.0\n",
      "2.0\n",
      "3.0\n",
      "1.5\n",
      "3.0\n",
      "1.0\n",
      "0\n",
      "0\n",
      "61.0\n",
      "3.270492\n"
     ]
    }
   ],
   "source": [
    "subjects = {\"A+\":[0,4.5], \n",
    "            \"A0\":[0,4.0],\n",
    "            \"B+\":[0,3.5],\n",
    "            \"B0\":[0,3.0],\n",
    "            \"C+\":[0,2.5],\n",
    "            \"C0\":[0,2.0],\n",
    "            \"D+\":[0,1.5],\n",
    "            \"D0\":[0,1.0],\n",
    "            \"F\":[0,0],\n",
    "            }\n",
    "\n",
    "Total_time = 0\n",
    "Total_GPA = 0\n",
    "\n",
    "for i in range(20):\n",
    "    subject, time, grade = input().split()\n",
    "    \n",
    "    if grade != \"P\":\n",
    "        subjects[grade][0] += float(time)\n",
    "        Total_time += float(time)\n",
    "\n",
    "\n",
    "\n",
    "for value in subjects.values():\n",
    "    Total_GPA += value[0]*value[1]\n",
    "    \n",
    "result = Total_GPA / Total_time\n",
    "print(\"{:.6f}\".format(result))"
   ]
  },
  {
   "cell_type": "code",
   "execution_count": null,
   "id": "0c3968aa",
   "metadata": {},
   "outputs": [],
   "source": []
  },
  {
   "cell_type": "code",
   "execution_count": null,
   "id": "a234662b",
   "metadata": {},
   "outputs": [],
   "source": []
  },
  {
   "cell_type": "code",
   "execution_count": 12,
   "id": "2ed2b3dc",
   "metadata": {},
   "outputs": [
    {
     "name": "stdout",
     "output_type": "stream",
     "text": [
      "62.0\n"
     ]
    }
   ],
   "source": [
    "print(Total_GPA)"
   ]
  },
  {
   "cell_type": "code",
   "execution_count": 13,
   "id": "a34e10a0",
   "metadata": {},
   "outputs": [
    {
     "name": "stdout",
     "output_type": "stream",
     "text": [
      "22.5\n",
      "8.0\n",
      "7.0\n",
      "15.0\n",
      "5.0\n",
      "2.0\n",
      "1.5\n",
      "1.0\n",
      "0\n"
     ]
    }
   ],
   "source": [
    "for value in subjects.values():\n",
    "    print(value[0]*value[1])"
   ]
  },
  {
   "cell_type": "code",
   "execution_count": null,
   "id": "3ea2ab4c",
   "metadata": {},
   "outputs": [],
   "source": []
  }
 ],
 "metadata": {
  "kernelspec": {
   "display_name": "Python 3 (ipykernel)",
   "language": "python",
   "name": "python3"
  },
  "language_info": {
   "codemirror_mode": {
    "name": "ipython",
    "version": 3
   },
   "file_extension": ".py",
   "mimetype": "text/x-python",
   "name": "python",
   "nbconvert_exporter": "python",
   "pygments_lexer": "ipython3",
   "version": "3.9.13"
  }
 },
 "nbformat": 4,
 "nbformat_minor": 5
}
